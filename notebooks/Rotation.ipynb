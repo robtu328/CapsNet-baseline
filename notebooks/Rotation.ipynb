{
 "cells": [
  {
   "cell_type": "code",
   "execution_count": null,
   "metadata": {
    "collapsed": true
   },
   "outputs": [],
   "source": [
    "from data_loaders import load_mnist\n",
    "import numpy as np\n",
    "import matplotlib.pyplot as plt\n",
    "import os\n",
    "from model import * \n",
    "import torch\n",
    "from PIL import Image\n",
    "import torchvision\n",
    "from torchvision import datasets, transforms\n",
    "import torch\n",
    "from constants import * \n",
    "import torch.nn.functional as functional\n",
    "from tqdm import tqdm\n",
    "import imageio"
   ]
  },
  {
   "cell_type": "code",
   "execution_count": null,
   "metadata": {
    "collapsed": true
   },
   "outputs": [],
   "source": [
    "def load_mnist(batch_size, rotate=0, scale=1):\n",
    "  dataset_transform = transforms.Compose([\n",
    "               transforms.RandomAffine([rotate, rotate+1], scale=[scale, scale]),\n",
    "               transforms.ToTensor(),\n",
    "               transforms.Normalize((0.1307,), (0.3081,))\n",
    "           ])\n",
    "  \n",
    "  train_dataset = datasets.MNIST('../data', \n",
    "                               train=True, \n",
    "                               download=True, \n",
    "                               transform=dataset_transform)\n",
    "  test_dataset = datasets.MNIST('../data', \n",
    "                                 train=False, \n",
    "                                 download=True, \n",
    "                                 transform=dataset_transform)\n",
    "\n",
    "\n",
    "  train_loader = torch.utils.data.DataLoader(train_dataset, \n",
    "                                             batch_size=batch_size,\n",
    "                                             shuffle=True)\n",
    "  test_loader = torch.utils.data.DataLoader(test_dataset, \n",
    "                                             batch_size=batch_size,\n",
    "                                             shuffle=False)\n",
    "  return train_loader, test_loader\n",
    "\n"
   ]
  },
  {
   "cell_type": "code",
   "execution_count": null,
   "metadata": {},
   "outputs": [],
   "source": [
    "capsnet = CapsNet(reconstruction_type=\"FC\")\n",
    "capsnet.load_state_dict(torch.load(\"../saved_models/model36.pt\"))\n",
    "capsnet.cuda()\n",
    "\"\""
   ]
  },
  {
   "cell_type": "code",
   "execution_count": null,
   "metadata": {},
   "outputs": [],
   "source": [
    "iter(load_mnist(20)[1]).next()[1]"
   ]
  },
  {
   "cell_type": "code",
   "execution_count": null,
   "metadata": {
    "collapsed": true
   },
   "outputs": [],
   "source": [
    ", _"
   ]
  },
  {
   "cell_type": "code",
   "execution_count": null,
   "metadata": {},
   "outputs": [],
   "source": [
    "j = 1\n",
    "for i in tqdm(range(1, 361, 4)):\n",
    "    _, test_loader = load_mnist(j+1, rotate=0, scale=i/64)\n",
    "    images, targets = iter(test_loader).next()\n",
    "\n",
    "    target = targets[j].item()\n",
    "    output, reconstruction, _ = capsnet(images.cuda())\n",
    "    output = torch.norm(output, dim=2).data.squeeze()\n",
    "    pred = output.squeeze().max(dim=1)[1][j].item()\n",
    "    im = images[j, 0].data.cpu().numpy()\n",
    "    rec = reconstruction[j,0].data.cpu().numpy()\n",
    "\n",
    "    plt.figure(figsize=(20,10))\n",
    "    plt.subplot(1,3,1)\n",
    "    plt.title(\"Confidence\")\n",
    "    plt.ylim([0,1])\n",
    "    plt.bar(range(0,10), output[j])\n",
    "    plt.bar(pred, output[j,pred])\n",
    "    plt.xticks(range(10))\n",
    "    plt.subplot(1,3,2)\n",
    "    plt.title(\"Input Image\")\n",
    "    plt.axis('off')\n",
    "    plt.imshow(im, cmap=\"gray\")\n",
    "    plt.subplot(1,3,3)\n",
    "    plt.title(\"Reconstructed Image\")\n",
    "    plt.axis('off')    \n",
    "    plt.imshow(rec, cmap=\"gray\")\n",
    "    plt.savefig(\"rotation/test{}.png\".format(i))\n",
    "\n",
    "\"\"\"\n",
    "fig = plt.figure()\n",
    "plt.subplot(1,2,1)\n",
    "plt.bar(range(0,10), output[j])\n",
    "pred = output[j].max(dim=0)[1].item()\n",
    "plt.bar(pred, output[j][pred])\n",
    "plt.xticks(range(0,10))\n",
    "plt.subplot(1,2,2)\n",
    "plt.imshow(im, cmap=\"gray\")\n",
    "plt.savefig(\"test.png\")\n",
    "\"\"\""
   ]
  },
  {
   "cell_type": "code",
   "execution_count": null,
   "metadata": {},
   "outputs": [],
   "source": [
    "from tqdm import trange\n",
    "images = []\n",
    "for i in trange(1,361,4):\n",
    "  images.append(imageio.imread(\"rotation/test{}.png\".format(i)))\n",
    "imageio.mimsave('./movie.gif', images)"
   ]
  },
  {
   "cell_type": "code",
   "execution_count": null,
   "metadata": {},
   "outputs": [],
   "source": [
    "j = 1\n",
    "confidences_correct = []\n",
    "confidences_correct_i = []\n",
    "confidences_false = []\n",
    "confidences_false_i = []\n",
    "for i in tqdm(range(0, 360, 2)):\n",
    "  _, test_loader = load_mnist(j+1, rotate=i)\n",
    "  images, targets = iter(test_loader).next()\n",
    "\n",
    "  target = targets[j].item()\n",
    "  output, reconstruction, _ = capsnet(images.cuda())\n",
    "  output = torch.norm(output, dim=2)\n",
    "  pred = output.squeeze().max(dim=1)[1][j].item()\n",
    "  \n",
    "  if pred == target:\n",
    "    confidences_correct.append(output[j,target,0].item())\n",
    "    confidences_correct_i.append(i)\n",
    "  else:\n",
    "    confidences_false.append(output[j,target,0].item())\n",
    "    confidences_false_i.append(i)\n",
    "    \n",
    "# Show Image\n",
    "_, test_loader = load_mnist(j+1, rotate=0)\n",
    "images, targets = iter(test_loader).next()\n",
    "im = images[j, 0].data.numpy()\n",
    "plt.imshow(im, cmap=\"gray\")\n",
    "\n",
    "# Print graph\n",
    "print(targets[j])\n"
   ]
  },
  {
   "cell_type": "code",
   "execution_count": null,
   "metadata": {},
   "outputs": [],
   "source": [
    "_, test_loader = load_mnist(1+1, rotate=0)\n",
    "images, targets = iter(test_loader).next()\n",
    "im = images[1, 0].data.numpy()\n",
    "plt.axis('off')\n",
    "plt.imshow(im, cmap=\"gray\")\n"
   ]
  },
  {
   "cell_type": "code",
   "execution_count": null,
   "metadata": {
    "collapsed": true
   },
   "outputs": [],
   "source": [
    "plt.figure(figsize=(20,10))\n",
    "plt.plot(confidences_correct_i, confidences_correct, '.')\n",
    "plt.plot(confidences_false_i, confidences_false, '.')\n",
    "plt.xlabel(\"Rotation degrees\")\n",
    "plt.ylabel(\"Confidence\")\n",
    "plt.xlim([0,360])\n",
    "plt.ylim([0,1])"
   ]
  }
 ],
 "metadata": {
  "kernelspec": {
   "display_name": "Python 3",
   "language": "python",
   "name": "python3"
  },
  "language_info": {
   "codemirror_mode": {
    "name": "ipython",
    "version": 3
   },
   "file_extension": ".py",
   "mimetype": "text/x-python",
   "name": "python",
   "nbconvert_exporter": "python",
   "pygments_lexer": "ipython3",
   "version": "3.6.2"
  }
 },
 "nbformat": 4,
 "nbformat_minor": 2
}
