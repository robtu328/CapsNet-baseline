{
 "cells": [
  {
   "cell_type": "code",
   "execution_count": null,
   "metadata": {
    "collapsed": true
   },
   "outputs": [],
   "source": [
    "import pandas as pd\n",
    "import os\n",
    "import matplotlib.pyplot as plt\n",
    "import numpy as np\n",
    "%matplotlib inline\n",
    "LOG_DIR = \"../logs\"\n",
    "filename= \"log-1528586274.9812639.txt\"\n",
    "path = os.path.join(LOG_DIR, filename)\n",
    "data = pd.read_csv(path,skipinitialspace=True)"
   ]
  },
  {
   "cell_type": "code",
   "execution_count": null,
   "metadata": {},
   "outputs": [],
   "source": [
    "data[-10:]"
   ]
  },
  {
   "cell_type": "code",
   "execution_count": null,
   "metadata": {},
   "outputs": [],
   "source": [
    "plt.figure(figsize=(20,10))\n",
    "plt.title(\"Loss\")\n",
    "# plt.xlim([0, 80])\n",
    "# plt.ylim([0.0, 100.0])\n",
    "plt.plot(data.reconstruction_loss_test[0:], '--o', label='Test reconstruction loss')\n",
    "plt.plot(data.reconstruction_loss_train[0:], '--o', label='Train reconstruction loss')\n",
    "plt.legend()"
   ]
  },
  {
   "cell_type": "code",
   "execution_count": null,
   "metadata": {},
   "outputs": [],
   "source": [
    "plt.figure(figsize=(20,10))\n",
    "plt.title(\"Loss\")\n",
    "# plt.xlim([0,80])\n",
    "plt.plot(data.test_loss[0:], '--o', label='Test loss')\n",
    "plt.plot(data.train_loss[0:], '--o', label='Train loss')\n",
    "plt.legend()"
   ]
  },
  {
   "cell_type": "code",
   "execution_count": null,
   "metadata": {},
   "outputs": [],
   "source": [
    "plt.figure(figsize=(20,10))\n",
    "plt.title(\"Loss\")\n",
    "# plt.xlim([0,80])\n",
    "plt.plot(data.margin_loss_test[0:], '--o', label='Test loss')\n",
    "plt.plot(data.margin_loss_train[0:], '--o', label='Train loss')\n",
    "plt.legend()"
   ]
  },
  {
   "cell_type": "code",
   "execution_count": null,
   "metadata": {},
   "outputs": [],
   "source": [
    "[len(data.test_accuracy),len(data.test_accuracy)]"
   ]
  },
  {
   "cell_type": "code",
   "execution_count": null,
   "metadata": {},
   "outputs": [],
   "source": [
    "plt.figure(figsize=(20,10))\n",
    "plt.xlim([0, len(data.test_accuracy)])\n",
    "plt.plot([0,len(data.test_accuracy)], [99.5, 99.5], '--')\n",
    "plt.plot(data.test_accuracy[0:], '--o')"
   ]
  },
  {
   "cell_type": "code",
   "execution_count": null,
   "metadata": {},
   "outputs": [],
   "source": [
    "plt.figure(figsize=(20,10))\n",
    "plt.plot(data.time[0:])\n",
    "# plt.ylim([100,110])"
   ]
  },
  {
   "cell_type": "code",
   "execution_count": null,
   "metadata": {
    "collapsed": true
   },
   "outputs": [],
   "source": []
  }
 ],
 "metadata": {
  "kernelspec": {
   "display_name": "Python 3",
   "language": "python",
   "name": "python3"
  },
  "language_info": {
   "codemirror_mode": {
    "name": "ipython",
    "version": 3
   },
   "file_extension": ".py",
   "mimetype": "text/x-python",
   "name": "python",
   "nbconvert_exporter": "python",
   "pygments_lexer": "ipython3",
   "version": "3.6.2"
  }
 },
 "nbformat": 4,
 "nbformat_minor": 2
}
